{
 "metadata": {
  "language_info": {
   "codemirror_mode": {
    "name": "ipython",
    "version": 3
   },
   "file_extension": ".py",
   "mimetype": "text/x-python",
   "name": "python",
   "nbconvert_exporter": "python",
   "pygments_lexer": "ipython3",
   "version": "3.8.2-final"
  },
  "orig_nbformat": 2,
  "kernelspec": {
   "name": "Python 3.8.2 64-bit",
   "display_name": "Python 3.8.2 64-bit",
   "metadata": {
    "interpreter": {
     "hash": "8b1547682eefc6db8c5f7593cc979d823c7656e9c7413611208526f78849f7a2"
    }
   }
  }
 },
 "nbformat": 4,
 "nbformat_minor": 2,
 "cells": [
  {
   "source": [
    "# Regional Elimination method"
   ],
   "cell_type": "markdown",
   "metadata": {}
  },
  {
   "source": [
    "## Fibonacci search method"
   ],
   "cell_type": "markdown",
   "metadata": {}
  },
  {
   "cell_type": "code",
   "execution_count": 1,
   "metadata": {},
   "outputs": [
    {
     "output_type": "stream",
     "name": "stdout",
     "text": [
      "Enter the interval\n",
      "\n",
      "Enter Lower Boundary\n",
      "\n",
      "0.0\n",
      "Enter Upper Boundary\n",
      "\n",
      "5.0\n",
      "Length of the interval 5.0\n",
      "set value of k as 2\n",
      "if you desire to perform number of function evaluations press 0 else press 1 to perform number of iterations \n",
      "Enter number of function evaluations\n",
      "\n",
      "value of L2* is\n",
      "1.875\n",
      "value of x1 and f(x1) is\n",
      " 1.875 32.315625\n",
      "value of x2 and f(x2) is\n",
      " 3.125 27.045625\n",
      "value of L3* is\n",
      "1.25\n",
      "value of x1 and f(x1) is\n",
      " 3.125 27.045625\n",
      "value of x2 and f(x2) is\n",
      " 3.75 28.4625\n",
      "value of L4* is\n",
      "0.625\n",
      "value of x1 and f(x1) is\n",
      " 2.5 27.85\n",
      "value of x2 and f(x2) is\n",
      " 3.125 27.045625\n",
      "Minimum value for the function is in between  2.5 3.75\n"
     ]
    }
   ],
   "source": [
    "def f(x):\n",
    "    return x**2+54/x\n",
    "\n",
    "print(\"Enter the interval\\n\")\n",
    "print(\"Enter Lower Boundary\\n\")\n",
    "a=float(input())\n",
    "print(a)\n",
    "print(\"Enter Upper Boundary\\n\")\n",
    "b=float(input())\n",
    "print(b)\n",
    "\n",
    "L=b-a\n",
    "print(\"Length of the interval\",L)\n",
    "\n",
    "k=2\n",
    "print(\"set value of k as\",k)\n",
    "\n",
    "print(\"if you desire to perform number of function evaluations press 0 else press 1 to perform number of iterations \")\n",
    "c=int(input())\n",
    "\n",
    "if (c==0):\n",
    "    print(\"Enter number of function evaluations\\n\")\n",
    "    m=float(input())\n",
    "elif (c==1):\n",
    "    print(\"Enter number of iterations\\n\")\n",
    "    m=float(input())+1\n",
    "    \n",
    "def fib(n):\n",
    "    if (n==0):\n",
    "        return 1\n",
    "    elif (n==1):\n",
    "        return 1\n",
    "    else :\n",
    "        return fib(n-2)+fib(n-1)\n",
    "\n",
    "while (k!=m+1):\n",
    "    Lk=fib(m-k+1)/fib(m+1)\n",
    "    Lk1=(Lk)*L\n",
    "    print(\"value of L{}* is {}\\n\".format(k,Lk1))\n",
    "    x1=a+Lk1\n",
    "    print(\"value of x1 and f(x1) is\\n\",x1,f(x1))\n",
    "    x2=b-Lk1\n",
    "    print(\"value of x2 and f(x2) is\\n\",x2,f(x2))\n",
    "    \n",
    "    if (f(x1)>f(x2)):\n",
    "        a=x1 #Eliminating region between (a,x1)\n",
    "    else :\n",
    "        if (f(x1)<f(x2) ):\n",
    "            b=x2 #Eliminating region between (x2,b)\n",
    "            \n",
    "    k=k+1\n",
    "                          \n",
    "        \n",
    "        \n",
    "   \n",
    "print (\"Minimum value for the function is in between \",a,b)"
   ]
  },
  {
   "cell_type": "code",
   "execution_count": null,
   "metadata": {},
   "outputs": [],
   "source": []
  }
 ]
}