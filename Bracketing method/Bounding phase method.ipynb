{
 "metadata": {
  "language_info": {
   "codemirror_mode": {
    "name": "ipython",
    "version": 3
   },
   "file_extension": ".py",
   "mimetype": "text/x-python",
   "name": "python",
   "nbconvert_exporter": "python",
   "pygments_lexer": "ipython3",
   "version": "3.8.2-final"
  },
  "orig_nbformat": 2,
  "kernelspec": {
   "name": "Python 3.8.2 64-bit",
   "display_name": "Python 3.8.2 64-bit",
   "metadata": {
    "interpreter": {
     "hash": "8b1547682eefc6db8c5f7593cc979d823c7656e9c7413611208526f78849f7a2"
    }
   }
  }
 },
 "nbformat": 4,
 "nbformat_minor": 2,
 "cells": [
  {
   "source": [
    "# Bracketing method"
   ],
   "cell_type": "markdown",
   "metadata": {}
  },
  {
   "source": [
    "## Bounding phase method"
   ],
   "cell_type": "markdown",
   "metadata": {}
  },
  {
   "cell_type": "code",
   "execution_count": 22,
   "metadata": {},
   "outputs": [
    {
     "output_type": "stream",
     "name": "stdout",
     "text": [
      "x(0) = -0.5\n",
      "Increament parameter = 0.5\n",
      "\n",
      "f(x(0) - abs(v)) = 16.163299631931665\n",
      "\n",
      " f(x(0)) = 13.83286393961466\n",
      "\n",
      "f(x(0)+ abs(v)) = 13.060604020080268\n",
      "\n",
      "delta is + ve\n",
      "\n",
      "0.5\n"
     ]
    }
   ],
   "source": [
    "import numpy as np\n",
    "def f(x):\n",
    "    #here we have to enter the question\n",
    "    return 10+3*np.exp(0.5*(x**2)-0.2*x+0.02)\n",
    "\n",
    "\n",
    "def x(k):\n",
    "    if k == 0:\n",
    "        x_0= -0.5\n",
    "        return x_0\n",
    "    else:\n",
    "        result = -0.5\n",
    "        result = result + (2**k)*v\n",
    "        return result\n",
    "\n",
    "\n",
    "print(f\"x(0) = {x(0)}\")\n",
    "v = float(input(\"Enter the increment parameter: \"))\n",
    "print(f\"Increament parameter = {v}\\n\")\n",
    "print(f\"f(x(0) - abs(v)) = {f(x(0) - abs(v))}\\n\")\n",
    "print(f\" f(x(0)) = { f(x(0))}\\n\")\n",
    "print(f\"f(x(0)+ abs(v)) = {f(x(0)+ abs(v))}\\n\")\n",
    "\n",
    "if f(x(0) - abs(v))>=f(x(0)) and f(x(0))>=f(x(0)+ abs(v)):\n",
    "    print(\"delta is + ve\\n\")\n",
    "elif f(x(0) - abs(v))<=f(x(0)) and f(x(0))<=f(x(0)+ abs(v)):\n",
    "    print(\"delta is - ve \\n\")\n",
    "elif f(x(0) - abs(v))>=f(x(0)) and f(x(0))<=f(x(0)+ abs(v)):\n",
    "    print(f\"minimum is between {x(0) - abs(v)} and {x(0)+ abs(v)}\")\n",
    "else:\n",
    "    x(0)\n",
    "\n",
    "k = 0\n",
    "x(k+1)\n",
    "\n",
    "if f(x(k+1)) < f(x(k)):\n",
    "    print(x(k+1))\n",
    "if f(x(k+1)) > f(x(k)):\n",
    "    print(f\"minimum lies between {x(k-1)} and {x(k+1)}\")\n",
    "    \n",
    "\n",
    "\n"
   ]
  },
  {
   "cell_type": "code",
   "execution_count": null,
   "metadata": {},
   "outputs": [],
   "source": []
  }
 ]
}