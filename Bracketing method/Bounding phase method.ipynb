{
 "metadata": {
  "language_info": {
   "codemirror_mode": {
    "name": "ipython",
    "version": 3
   },
   "file_extension": ".py",
   "mimetype": "text/x-python",
   "name": "python",
   "nbconvert_exporter": "python",
   "pygments_lexer": "ipython3",
   "version": "3.8.2-final"
  },
  "orig_nbformat": 2,
  "kernelspec": {
   "name": "Python 3.8.2 64-bit",
   "display_name": "Python 3.8.2 64-bit",
   "metadata": {
    "interpreter": {
     "hash": "8b1547682eefc6db8c5f7593cc979d823c7656e9c7413611208526f78849f7a2"
    }
   }
  }
 },
 "nbformat": 4,
 "nbformat_minor": 2,
 "cells": [
  {
   "source": [
    "# Bracketing method"
   ],
   "cell_type": "markdown",
   "metadata": {}
  },
  {
   "source": [
    "## Bounding phase method"
   ],
   "cell_type": "markdown",
   "metadata": {}
  },
  {
   "cell_type": "code",
   "execution_count": 1,
   "metadata": {},
   "outputs": [
    {
     "output_type": "error",
     "ename": "TypeError",
     "evalue": "x() missing 1 required positional argument: 'k'",
     "traceback": [
      "\u001b[1;31m---------------------------------------------------------------------------\u001b[0m",
      "\u001b[1;31mTypeError\u001b[0m                                 Traceback (most recent call last)",
      "\u001b[1;32m<ipython-input-1-54f704bb7cc9>\u001b[0m in \u001b[0;36m<module>\u001b[1;34m\u001b[0m\n\u001b[0;32m     15\u001b[0m \u001b[1;33m\u001b[0m\u001b[0m\n\u001b[0;32m     16\u001b[0m \u001b[1;33m\u001b[0m\u001b[0m\n\u001b[1;32m---> 17\u001b[1;33m \u001b[0mprint\u001b[0m\u001b[1;33m(\u001b[0m\u001b[1;34mf\"x(0) = {x(0)}\"\u001b[0m\u001b[1;33m)\u001b[0m\u001b[1;33m\u001b[0m\u001b[1;33m\u001b[0m\u001b[0m\n\u001b[0m\u001b[0;32m     18\u001b[0m \u001b[0mv\u001b[0m \u001b[1;33m=\u001b[0m \u001b[0mfloat\u001b[0m\u001b[1;33m(\u001b[0m\u001b[0minput\u001b[0m\u001b[1;33m(\u001b[0m\u001b[1;34m\"Enter the increment parameter: \"\u001b[0m\u001b[1;33m)\u001b[0m\u001b[1;33m)\u001b[0m\u001b[1;33m\u001b[0m\u001b[1;33m\u001b[0m\u001b[0m\n\u001b[0;32m     19\u001b[0m \u001b[0mprint\u001b[0m\u001b[1;33m(\u001b[0m\u001b[1;34mf\"Increament parameter = {v}\\n\"\u001b[0m\u001b[1;33m)\u001b[0m\u001b[1;33m\u001b[0m\u001b[1;33m\u001b[0m\u001b[0m\n",
      "\u001b[1;31mTypeError\u001b[0m: x() missing 1 required positional argument: 'k'"
     ]
    }
   ],
   "source": [
    "import numpy as np\n",
    "def f(x):\n",
    "    #here we have to enter the question\n",
    "    return 10+3*np.exp(0.5*(x**2)-0.2*x+0.02)\n",
    "\n",
    "\n",
    "def x(k):\n",
    "    if k == 0:\n",
    "        x_0= -0.5\n",
    "        return x_0\n",
    "    else:\n",
    "        result = -0.5\n",
    "        result = result + (2**k)*v\n",
    "        return result\n",
    "\n",
    "\n",
    "print(f\"x(0) = {x(0)}\")\n",
    "v = float(input(\"Enter the increment parameter: \"))\n",
    "print(f\"Increament parameter = {v}\\n\")\n",
    "print(f\"f(x(0) - abs(v)) = {f(x(0) - abs(v))}\\n\")\n",
    "print(f\" f(x(0)) = { f(x(0))}\\n\")\n",
    "print(f\"f(x(0)+ abs(v)) = {f(x(0)+ abs(v))}\\n\")\n",
    "\n",
    "if f(x(0) - abs(v))>=f(x(0)) and f(x(0))>=f(x(0)+ abs(v)):\n",
    "    print(\"delta is + ve\\n\")\n",
    "elif f(x(0) - abs(v))<=f(x(0)) and f(x(0))<=f(x(0)+ abs(v)):\n",
    "    print(\"delta is - ve \\n\")\n",
    "elif f(x(0) - abs(v))>=f(x(0)) and f(x(0))<=f(x(0)+ abs(v)):\n",
    "    print(f\"minimum is between {x(0) - abs(v)} and {x(0)+ abs(v)}\")\n",
    "else:\n",
    "    x(0)\n",
    "\n",
    "print(\"Do x(k+1) = x(k) + 2**k * delta\")\n",
    "    \n",
    "\n",
    "\n"
   ]
  },
  {
   "cell_type": "code",
   "execution_count": null,
   "metadata": {},
   "outputs": [],
   "source": []
  }
 ]
}