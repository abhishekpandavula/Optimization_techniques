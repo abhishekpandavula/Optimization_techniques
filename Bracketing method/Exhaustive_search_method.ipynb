{
 "metadata": {
  "language_info": {
   "codemirror_mode": {
    "name": "ipython",
    "version": 3
   },
   "file_extension": ".py",
   "mimetype": "text/x-python",
   "name": "python",
   "nbconvert_exporter": "python",
   "pygments_lexer": "ipython3",
   "version": "3.8.2-final"
  },
  "orig_nbformat": 2,
  "kernelspec": {
   "name": "Python 3.8.2 64-bit",
   "display_name": "Python 3.8.2 64-bit",
   "metadata": {
    "interpreter": {
     "hash": "8b1547682eefc6db8c5f7593cc979d823c7656e9c7413611208526f78849f7a2"
    }
   }
  }
 },
 "nbformat": 4,
 "nbformat_minor": 2,
 "cells": [
  {
   "source": [
    "# Bracketing Method"
   ],
   "cell_type": "markdown",
   "metadata": {}
  },
  {
   "source": [
    "## Exhaustive search algorithm"
   ],
   "cell_type": "markdown",
   "metadata": {}
  },
  {
   "cell_type": "code",
   "execution_count": 51,
   "metadata": {
    "tags": []
   },
   "outputs": [
    {
     "output_type": "stream",
     "name": "stdout",
     "text": [
      "n = 16\n",
      "\n",
      "a = -1\n",
      " b = 1\n",
      "delta_x = 0.125\n",
      "\n",
      "Iteration 1\n",
      " x1 =-1\t x2=-0.875\t x3 = -0.75\n",
      " f(x1) = 9.181269246922017\tf(x2) = 6.527974619855793\tf(x3) = 4.330698273574942\n",
      "\n",
      "f(x1) > f(x2) > f(x3)\n",
      "\n",
      "Iteration 2\n",
      " x1 =-0.875\t x2=-0.75\t x3 = -0.625\n",
      " f(x1) = 6.527974619855793\tf(x2) = 4.330698273574942\tf(x3) = 2.5513409880404048\n",
      "\n",
      "f(x1) > f(x2) > f(x3)\n",
      "\n",
      "Iteration 3\n",
      " x1 =-0.75\t x2=-0.625\t x3 = -0.5\n",
      " f(x1) = 4.330698273574942\tf(x2) = 2.5513409880404048\tf(x3) = 1.1576625819640405\n",
      "\n",
      "f(x1) > f(x2) > f(x3)\n",
      "\n",
      "Iteration 4\n",
      " x1 =-0.625\t x2=-0.5\t x3 = -0.375\n",
      " f(x1) = 2.5513409880404048\tf(x2) = 1.1576625819640405\tf(x3) = 0.12328190429644714\n",
      "\n",
      "f(x1) > f(x2) > f(x3)\n",
      "\n",
      "Iteration 5\n",
      " x1 =-0.5\t x2=-0.375\t x3 = -0.25\n",
      " f(x1) = 1.1576625819640405\tf(x2) = 0.12328190429644714\tf(x3) = -0.572323174500714\n",
      "\n",
      "f(x1) > f(x2) > f(x3)\n",
      "\n",
      "Iteration 6\n",
      " x1 =-0.375\t x2=-0.25\t x3 = -0.125\n",
      " f(x1) = 0.12328190429644714\tf(x2) = -0.572323174500714\tf(x3) = -0.9438157714033326\n",
      "\n",
      "f(x1) > f(x2) > f(x3)\n",
      "\n",
      "Iteration 7\n",
      " x1 =-0.25\t x2=-0.125\t x3 = 0.0\n",
      " f(x1) = -0.572323174500714\tf(x2) = -0.9438157714033326\tf(x3) = -1.0\n",
      "\n",
      "f(x1) > f(x2) > f(x3)\n",
      "\n",
      "Iteration 8\n",
      " x1 =-0.125\t x2=0.0\t x3 = 0.125\n",
      " f(x1) = -0.9438157714033326\tf(x2) = -1.0\tf(x3) = -0.7438209798994289\n",
      "\n",
      "f(x1) > f(x2) < f(x3)\n",
      "\n",
      " Minimum point lies in the interval (x1,x3) = (-0.125,0.125)\n",
      "\n"
     ]
    }
   ],
   "source": [
    "import numpy as np\n",
    "def f(x):\n",
    "    #here we have to enter the question\n",
    "    return (x**4)+10*(x**2)+x-np.exp(0.2*x)\n",
    "    \n",
    "condition = input(\"Enter 'n' or 'l'\")\n",
    "if condition == 'n':\n",
    "    # n = number of intervals into which the given interval is divided\n",
    "    n = int(input(\"Enter the value of n: \"))\n",
    "    print(f\"n = {n}\\n\")\n",
    "    a,b = map(int,input(\"Enter the limits in the format a space b\").split())\n",
    "    print(f\"a = {a}\\n b = {b}\")\n",
    "    x1 = a \n",
    "    delta_x = (b-a)/n\n",
    "\n",
    "else:\n",
    "    # Enter the value of l over here\n",
    "    ls = input(\"Enter the length l =\")\n",
    "    l = float(ls)\n",
    "    print(f\"l = {l}\")\n",
    "    print(\"Enter the limits in the format a space b \\na b \\n\")\n",
    "    a,b = map(int,input().split())\n",
    "    print(f\"a = {a}\\n b = {b}\")\n",
    "    x1 = a \n",
    "    delta_x = l/2\n",
    "\n",
    "\n",
    "x2 = x1 + delta_x\n",
    "x3 = x2 + delta_x\n",
    "i=1\n",
    "print(f\"delta_x = {delta_x}\\n\")\n",
    "while x3<=b:\n",
    "    print(f\"Iteration {i}\\n x1 ={x1}\\t x2={x2}\\t x3 = {x3}\\n f(x1) = {f(x1)}\\tf(x2) = {f(x2)}\\tf(x3) = {f(x3)}\\n\")\n",
    "    i = i+1\n",
    "    if f(x1)>=f(x2) and f(x2)<=f(x3):\n",
    "        print(\"f(x1) > f(x2) < f(x3)\\n\")\n",
    "        print(f\" Minimum point lies in the interval (x1,x3) = ({x1},{x3})\\n\")\n",
    "        break\n",
    "\n",
    "    else:\n",
    "        print(\"f(x1) > f(x2) > f(x3)\\n\")\n",
    "        temp = x2\n",
    "        x1 = temp\n",
    "        x2 = x3\n",
    "        x3 = x2 + delta_x\n",
    "\n",
    "if x3>b:      \n",
    "    print(f\"No minimum in ({a},{b}) or\\n boundary point is the minimum point\\n\")"
   ]
  },
  {
   "cell_type": "code",
   "execution_count": null,
   "metadata": {},
   "outputs": [],
   "source": []
  }
 ]
}